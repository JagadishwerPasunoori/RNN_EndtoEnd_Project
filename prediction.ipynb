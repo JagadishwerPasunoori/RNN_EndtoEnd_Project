{
 "cells": [
  {
   "cell_type": "code",
   "execution_count": 4,
   "metadata": {},
   "outputs": [],
   "source": [
    "# required libraries\n",
    "import numpy as np\n",
    "import tensorflow as tf\n",
    "from tensorflow.keras.datasets import imdb\n",
    "from tensorflow.keras.preprocessing.sequence import pad_sequences\n",
    "from tensorflow.keras.models import Sequential,load_model\n",
    "from tensorflow.keras.layers import Dense, SimpleRNN, Embedding"
   ]
  },
  {
   "cell_type": "code",
   "execution_count": 5,
   "metadata": {},
   "outputs": [],
   "source": [
    "# load the imdb dataset\n",
    "\n",
    "word_index = imdb.get_word_index()\n",
    "reverse_word_index = dict([(value, key) for (key, value) in word_index.items()])"
   ]
  },
  {
   "cell_type": "code",
   "execution_count": 6,
   "metadata": {},
   "outputs": [
    {
     "name": "stderr",
     "output_type": "stream",
     "text": [
      "WARNING:absl:Compiled the loaded model, but the compiled metrics have yet to be built. `model.compile_metrics` will be empty until you train or evaluate the model.\n"
     ]
    },
    {
     "data": {
      "text/html": [
       "<pre style=\"white-space:pre;overflow-x:auto;line-height:normal;font-family:Menlo,'DejaVu Sans Mono',consolas,'Courier New',monospace\"><span style=\"font-weight: bold\">Model: \"sequential_1\"</span>\n",
       "</pre>\n"
      ],
      "text/plain": [
       "\u001b[1mModel: \"sequential_1\"\u001b[0m\n"
      ]
     },
     "metadata": {},
     "output_type": "display_data"
    },
    {
     "data": {
      "text/html": [
       "<pre style=\"white-space:pre;overflow-x:auto;line-height:normal;font-family:Menlo,'DejaVu Sans Mono',consolas,'Courier New',monospace\">┏━━━━━━━━━━━━━━━━━━━━━━━━━━━━━━━━━┳━━━━━━━━━━━━━━━━━━━━━━━━┳━━━━━━━━━━━━━━━┓\n",
       "┃<span style=\"font-weight: bold\"> Layer (type)                    </span>┃<span style=\"font-weight: bold\"> Output Shape           </span>┃<span style=\"font-weight: bold\">       Param # </span>┃\n",
       "┡━━━━━━━━━━━━━━━━━━━━━━━━━━━━━━━━━╇━━━━━━━━━━━━━━━━━━━━━━━━╇━━━━━━━━━━━━━━━┩\n",
       "│ embedding_1 (<span style=\"color: #0087ff; text-decoration-color: #0087ff\">Embedding</span>)         │ (<span style=\"color: #00af00; text-decoration-color: #00af00\">32</span>, <span style=\"color: #00af00; text-decoration-color: #00af00\">500</span>, <span style=\"color: #00af00; text-decoration-color: #00af00\">128</span>)         │     <span style=\"color: #00af00; text-decoration-color: #00af00\">1,280,000</span> │\n",
       "├─────────────────────────────────┼────────────────────────┼───────────────┤\n",
       "│ simple_rnn_1 (<span style=\"color: #0087ff; text-decoration-color: #0087ff\">SimpleRNN</span>)        │ (<span style=\"color: #00af00; text-decoration-color: #00af00\">32</span>, <span style=\"color: #00af00; text-decoration-color: #00af00\">128</span>)              │        <span style=\"color: #00af00; text-decoration-color: #00af00\">32,896</span> │\n",
       "├─────────────────────────────────┼────────────────────────┼───────────────┤\n",
       "│ dense_1 (<span style=\"color: #0087ff; text-decoration-color: #0087ff\">Dense</span>)                 │ (<span style=\"color: #00af00; text-decoration-color: #00af00\">32</span>, <span style=\"color: #00af00; text-decoration-color: #00af00\">1</span>)                │           <span style=\"color: #00af00; text-decoration-color: #00af00\">129</span> │\n",
       "└─────────────────────────────────┴────────────────────────┴───────────────┘\n",
       "</pre>\n"
      ],
      "text/plain": [
       "┏━━━━━━━━━━━━━━━━━━━━━━━━━━━━━━━━━┳━━━━━━━━━━━━━━━━━━━━━━━━┳━━━━━━━━━━━━━━━┓\n",
       "┃\u001b[1m \u001b[0m\u001b[1mLayer (type)                   \u001b[0m\u001b[1m \u001b[0m┃\u001b[1m \u001b[0m\u001b[1mOutput Shape          \u001b[0m\u001b[1m \u001b[0m┃\u001b[1m \u001b[0m\u001b[1m      Param #\u001b[0m\u001b[1m \u001b[0m┃\n",
       "┡━━━━━━━━━━━━━━━━━━━━━━━━━━━━━━━━━╇━━━━━━━━━━━━━━━━━━━━━━━━╇━━━━━━━━━━━━━━━┩\n",
       "│ embedding_1 (\u001b[38;5;33mEmbedding\u001b[0m)         │ (\u001b[38;5;34m32\u001b[0m, \u001b[38;5;34m500\u001b[0m, \u001b[38;5;34m128\u001b[0m)         │     \u001b[38;5;34m1,280,000\u001b[0m │\n",
       "├─────────────────────────────────┼────────────────────────┼───────────────┤\n",
       "│ simple_rnn_1 (\u001b[38;5;33mSimpleRNN\u001b[0m)        │ (\u001b[38;5;34m32\u001b[0m, \u001b[38;5;34m128\u001b[0m)              │        \u001b[38;5;34m32,896\u001b[0m │\n",
       "├─────────────────────────────────┼────────────────────────┼───────────────┤\n",
       "│ dense_1 (\u001b[38;5;33mDense\u001b[0m)                 │ (\u001b[38;5;34m32\u001b[0m, \u001b[38;5;34m1\u001b[0m)                │           \u001b[38;5;34m129\u001b[0m │\n",
       "└─────────────────────────────────┴────────────────────────┴───────────────┘\n"
      ]
     },
     "metadata": {},
     "output_type": "display_data"
    },
    {
     "data": {
      "text/html": [
       "<pre style=\"white-space:pre;overflow-x:auto;line-height:normal;font-family:Menlo,'DejaVu Sans Mono',consolas,'Courier New',monospace\"><span style=\"font-weight: bold\"> Total params: </span><span style=\"color: #00af00; text-decoration-color: #00af00\">1,313,027</span> (5.01 MB)\n",
       "</pre>\n"
      ],
      "text/plain": [
       "\u001b[1m Total params: \u001b[0m\u001b[38;5;34m1,313,027\u001b[0m (5.01 MB)\n"
      ]
     },
     "metadata": {},
     "output_type": "display_data"
    },
    {
     "data": {
      "text/html": [
       "<pre style=\"white-space:pre;overflow-x:auto;line-height:normal;font-family:Menlo,'DejaVu Sans Mono',consolas,'Courier New',monospace\"><span style=\"font-weight: bold\"> Trainable params: </span><span style=\"color: #00af00; text-decoration-color: #00af00\">1,313,025</span> (5.01 MB)\n",
       "</pre>\n"
      ],
      "text/plain": [
       "\u001b[1m Trainable params: \u001b[0m\u001b[38;5;34m1,313,025\u001b[0m (5.01 MB)\n"
      ]
     },
     "metadata": {},
     "output_type": "display_data"
    },
    {
     "data": {
      "text/html": [
       "<pre style=\"white-space:pre;overflow-x:auto;line-height:normal;font-family:Menlo,'DejaVu Sans Mono',consolas,'Courier New',monospace\"><span style=\"font-weight: bold\"> Non-trainable params: </span><span style=\"color: #00af00; text-decoration-color: #00af00\">0</span> (0.00 B)\n",
       "</pre>\n"
      ],
      "text/plain": [
       "\u001b[1m Non-trainable params: \u001b[0m\u001b[38;5;34m0\u001b[0m (0.00 B)\n"
      ]
     },
     "metadata": {},
     "output_type": "display_data"
    },
    {
     "data": {
      "text/html": [
       "<pre style=\"white-space:pre;overflow-x:auto;line-height:normal;font-family:Menlo,'DejaVu Sans Mono',consolas,'Courier New',monospace\"><span style=\"font-weight: bold\"> Optimizer params: </span><span style=\"color: #00af00; text-decoration-color: #00af00\">2</span> (12.00 B)\n",
       "</pre>\n"
      ],
      "text/plain": [
       "\u001b[1m Optimizer params: \u001b[0m\u001b[38;5;34m2\u001b[0m (12.00 B)\n"
      ]
     },
     "metadata": {},
     "output_type": "display_data"
    }
   ],
   "source": [
    "# load the pre-trained model with ReLU activation function\n",
    "\n",
    "model=load_model('rnn_model.h5')\n",
    "model.summary()\n"
   ]
  },
  {
   "cell_type": "code",
   "execution_count": 7,
   "metadata": {},
   "outputs": [
    {
     "data": {
      "text/plain": [
       "[array([[-1.3742123 ,  0.4079858 , -1.3780837 , ...,  0.13134709,\n",
       "         -1.4855443 , -1.3233699 ],\n",
       "        [-0.03063907,  0.01310406, -0.06918948, ...,  0.00861426,\n",
       "         -0.08273011, -0.08637732],\n",
       "        [-0.07668538,  0.0383781 , -0.12597549, ...,  0.02738459,\n",
       "         -0.06929593, -0.016866  ],\n",
       "        ...,\n",
       "        [ 0.01231963, -0.08153617, -0.00473153, ...,  0.0375797 ,\n",
       "         -0.03603733, -0.02449262],\n",
       "        [ 0.01939743,  0.03058154,  0.01998599, ...,  0.03264031,\n",
       "         -0.00287984, -0.01411659],\n",
       "        [-0.02073772, -0.02599115,  0.02999391, ..., -0.07925525,\n",
       "          0.00453848, -0.06009929]], dtype=float32),\n",
       " array([[-0.11559308, -0.08377255, -0.00870978, ...,  0.13422525,\n",
       "          0.10682075, -0.03832469],\n",
       "        [-0.0852202 , -0.07894267,  0.03393054, ...,  0.00155368,\n",
       "          0.04610051,  0.07241166],\n",
       "        [ 0.07353934,  0.03382561,  0.0898137 , ..., -0.05377285,\n",
       "          0.05117593,  0.14626017],\n",
       "        ...,\n",
       "        [ 0.1340036 , -0.1507364 ,  0.01071924, ..., -0.1050418 ,\n",
       "         -0.04985806,  0.15348497],\n",
       "        [ 0.0215502 , -0.02470643,  0.08253668, ...,  0.14390618,\n",
       "          0.05963578, -0.09166432],\n",
       "        [-0.09140924,  0.15591358, -0.07796917, ..., -0.13974814,\n",
       "         -0.00612088, -0.01258165]], dtype=float32),\n",
       " array([[ 0.07781997, -0.19795907, -0.03660109, ..., -0.00245867,\n",
       "          0.13753219,  0.00317127],\n",
       "        [ 0.13388501,  0.07270727, -0.04088333, ..., -0.19397253,\n",
       "         -0.06802727,  0.01770162],\n",
       "        [-0.0710573 , -0.07895771,  0.01645382, ..., -0.00960964,\n",
       "          0.05180417,  0.09989851],\n",
       "        ...,\n",
       "        [ 0.20372696, -0.04271144, -0.04336071, ..., -0.01109017,\n",
       "         -0.02416045,  0.0949742 ],\n",
       "        [ 0.05916459, -0.07922571, -0.12267783, ...,  0.02188783,\n",
       "          0.0265974 ,  0.01697271],\n",
       "        [-0.0479055 , -0.12396248, -0.0710407 , ..., -0.0051391 ,\n",
       "          0.04492614, -0.17942148]], dtype=float32),\n",
       " array([ 0.01357602, -0.03110661, -0.01978146,  0.01770541,  0.00455293,\n",
       "         0.02009775, -0.04176918, -0.03468487, -0.02654445,  0.02654902,\n",
       "         0.01780747,  0.03376561, -0.01557457, -0.04305507, -0.0341856 ,\n",
       "        -0.04740696,  0.01429908, -0.01620273, -0.03201257, -0.01808895,\n",
       "        -0.017155  , -0.04008148, -0.04285377, -0.0321734 , -0.00587347,\n",
       "         0.00554049, -0.01943893,  0.03511045, -0.04597366, -0.04391184,\n",
       "        -0.02983045,  0.00727492, -0.03716146,  0.03833729, -0.01215716,\n",
       "        -0.00964388,  0.03383452, -0.00901461, -0.06222026, -0.03345376,\n",
       "         0.0212842 ,  0.00255274, -0.00763118, -0.02608933,  0.05048781,\n",
       "         0.0456928 ,  0.00324773, -0.03866123, -0.0461893 , -0.01374862,\n",
       "        -0.03044334, -0.05563546, -0.0405735 , -0.02503745, -0.03180762,\n",
       "         0.0466138 ,  0.01476146,  0.01924889, -0.0347954 , -0.04628151,\n",
       "         0.03061497,  0.00455152, -0.01363978, -0.02596897, -0.01305477,\n",
       "        -0.02290181,  0.00652646, -0.01000122, -0.0046377 ,  0.01726709,\n",
       "        -0.01362828, -0.01732419, -0.02322123, -0.03671732,  0.01128709,\n",
       "        -0.02151751,  0.02322226,  0.04446861,  0.0175781 , -0.03702626,\n",
       "        -0.02430494,  0.00708371, -0.01310985, -0.00866676, -0.0502537 ,\n",
       "        -0.02864189, -0.02379843, -0.04271857, -0.00348404, -0.05354374,\n",
       "        -0.02588011, -0.02924749, -0.05434344,  0.03396393, -0.02038431,\n",
       "        -0.02751539, -0.03705638, -0.05283868, -0.04902708, -0.01440107,\n",
       "        -0.02859834, -0.01743516, -0.01243014, -0.04245458, -0.0292482 ,\n",
       "         0.009326  , -0.03324781, -0.01389633,  0.04482815, -0.07620768,\n",
       "        -0.00643628, -0.03572506, -0.04443099, -0.01871024, -0.00336094,\n",
       "        -0.03739456, -0.02758281,  0.01117484, -0.03453885, -0.06349739,\n",
       "         0.02929766, -0.04121919, -0.03236058,  0.01606721,  0.03312626,\n",
       "        -0.03555233,  0.05112265, -0.03822359], dtype=float32),\n",
       " array([[ 0.08747865],\n",
       "        [ 0.23051547],\n",
       "        [ 0.10943353],\n",
       "        [ 0.11116312],\n",
       "        [-0.17387667],\n",
       "        [ 0.11757532],\n",
       "        [-0.15264168],\n",
       "        [ 0.0995184 ],\n",
       "        [ 0.06767268],\n",
       "        [-0.12012806],\n",
       "        [-0.1080614 ],\n",
       "        [-0.13073315],\n",
       "        [-0.16769549],\n",
       "        [ 0.2166161 ],\n",
       "        [ 0.0884848 ],\n",
       "        [-0.03209642],\n",
       "        [ 0.03640191],\n",
       "        [ 0.15811229],\n",
       "        [ 0.0939475 ],\n",
       "        [-0.20386505],\n",
       "        [ 0.0859318 ],\n",
       "        [-0.03056565],\n",
       "        [ 0.09148191],\n",
       "        [-0.17821272],\n",
       "        [ 0.1378924 ],\n",
       "        [ 0.19095631],\n",
       "        [-0.04553793],\n",
       "        [-0.21353532],\n",
       "        [ 0.1859116 ],\n",
       "        [-0.15729196],\n",
       "        [ 0.13529769],\n",
       "        [-0.21710542],\n",
       "        [ 0.36801586],\n",
       "        [ 0.00423835],\n",
       "        [-0.13764785],\n",
       "        [ 0.13835508],\n",
       "        [ 0.16747406],\n",
       "        [-0.15869646],\n",
       "        [-0.03316875],\n",
       "        [ 0.0344255 ],\n",
       "        [-0.16120361],\n",
       "        [-0.01862952],\n",
       "        [-0.06320912],\n",
       "        [-0.14004277],\n",
       "        [-0.18427585],\n",
       "        [-0.20042896],\n",
       "        [ 0.07313822],\n",
       "        [-0.20141706],\n",
       "        [-0.01651445],\n",
       "        [-0.00728489],\n",
       "        [-0.01355386],\n",
       "        [ 0.18490909],\n",
       "        [ 0.15992065],\n",
       "        [ 0.10491575],\n",
       "        [ 0.1824273 ],\n",
       "        [-0.22419158],\n",
       "        [ 0.03089498],\n",
       "        [ 0.03739323],\n",
       "        [ 0.12115414],\n",
       "        [ 0.0099256 ],\n",
       "        [-0.12492372],\n",
       "        [-0.06393057],\n",
       "        [ 0.22267269],\n",
       "        [-0.11473146],\n",
       "        [ 0.12584847],\n",
       "        [ 0.42074415],\n",
       "        [-0.31240982],\n",
       "        [-0.00433277],\n",
       "        [-0.01034565],\n",
       "        [ 0.0851927 ],\n",
       "        [ 0.30156407],\n",
       "        [-0.10032225],\n",
       "        [ 0.09703239],\n",
       "        [ 0.19324644],\n",
       "        [ 0.24303213],\n",
       "        [ 0.05435847],\n",
       "        [ 0.03911888],\n",
       "        [-0.15560567],\n",
       "        [ 0.03766428],\n",
       "        [-0.19695348],\n",
       "        [ 0.19724347],\n",
       "        [-0.08479963],\n",
       "        [ 0.15520619],\n",
       "        [ 0.1460951 ],\n",
       "        [-0.08677097],\n",
       "        [ 0.20853654],\n",
       "        [-0.04402205],\n",
       "        [-0.01530158],\n",
       "        [ 0.17398335],\n",
       "        [-0.16235329],\n",
       "        [-0.02112528],\n",
       "        [-0.19280544],\n",
       "        [ 0.18414325],\n",
       "        [ 0.042161  ],\n",
       "        [-0.13023967],\n",
       "        [ 0.21018937],\n",
       "        [-0.0051852 ],\n",
       "        [ 0.1639539 ],\n",
       "        [-0.08167167],\n",
       "        [ 0.17712936],\n",
       "        [-0.00141658],\n",
       "        [ 0.1657195 ],\n",
       "        [ 0.04719109],\n",
       "        [-0.13041659],\n",
       "        [-0.20205115],\n",
       "        [ 0.0789252 ],\n",
       "        [-0.03377365],\n",
       "        [-0.05530536],\n",
       "        [ 0.11195611],\n",
       "        [-0.05800971],\n",
       "        [-0.01455215],\n",
       "        [ 0.05675352],\n",
       "        [ 0.05589875],\n",
       "        [ 0.24596271],\n",
       "        [ 0.10163288],\n",
       "        [ 0.00966019],\n",
       "        [-0.03882655],\n",
       "        [-0.2225198 ],\n",
       "        [-0.04413501],\n",
       "        [ 0.39395848],\n",
       "        [-0.21347009],\n",
       "        [ 0.01175798],\n",
       "        [-0.09339953],\n",
       "        [-0.18934904],\n",
       "        [-0.23954569],\n",
       "        [ 0.24836116],\n",
       "        [-0.01085398],\n",
       "        [-0.13251106]], dtype=float32),\n",
       " array([1.7586638], dtype=float32)]"
      ]
     },
     "execution_count": 7,
     "metadata": {},
     "output_type": "execute_result"
    }
   ],
   "source": [
    "model.get_weights()"
   ]
  },
  {
   "cell_type": "code",
   "execution_count": 8,
   "metadata": {},
   "outputs": [],
   "source": [
    "# function to decode review\n",
    "def decode_review(encoded_review):\n",
    "    return ' '.join([reverse_word_index.get(i, '?') for i in encoded_review])\n",
    "\n",
    "# function to preprocess user input:\n",
    "def preprocess_text(text):\n",
    "    words=text.lower().split()\n",
    "    encoded_review=[word_index.get(word, 2) + 3 for word in words]\n",
    "    padded_review=pad_sequences([encoded_review], maxlen=500)\n",
    "    return padded_review"
   ]
  },
  {
   "cell_type": "code",
   "execution_count": 9,
   "metadata": {},
   "outputs": [],
   "source": [
    "# prediction function\n",
    "def predict_sentiment(review):\n",
    "    preprocessed_input=preprocess_text(review)\n",
    "    prediction=model.predict(preprocessed_input)\n",
    "    sentiment='Positive' if prediction[0][0]>0.5 else 'Negative'\n",
    "    return sentiment, prediction[0][0]"
   ]
  },
  {
   "cell_type": "code",
   "execution_count": 11,
   "metadata": {},
   "outputs": [
    {
     "name": "stdout",
     "output_type": "stream",
     "text": [
      "\u001b[1m1/1\u001b[0m \u001b[32m━━━━━━━━━━━━━━━━━━━━\u001b[0m\u001b[37m\u001b[0m \u001b[1m0s\u001b[0m 437ms/step\n",
      "Review: The movie was fantastic! The acting was great, plot was wonderful, and there were no dull moments. I loved it!\n",
      "Sentiment: Positive\n",
      "Confidence: 0.59097743\n"
     ]
    }
   ],
   "source": [
    "# example review for prediction:\n",
    "example_review='The movie was fantastic! The acting was great, plot was wonderful, and there were no dull moments. I loved it!'\n",
    "sentiment, prediction=predict_sentiment(example_review)\n",
    "print('Review:', example_review)\n",
    "print('Sentiment:', sentiment)\n",
    "print('Confidence:', prediction)"
   ]
  },
  {
   "cell_type": "code",
   "execution_count": null,
   "metadata": {},
   "outputs": [],
   "source": []
  }
 ],
 "metadata": {
  "kernelspec": {
   "display_name": "venv",
   "language": "python",
   "name": "python3"
  },
  "language_info": {
   "codemirror_mode": {
    "name": "ipython",
    "version": 3
   },
   "file_extension": ".py",
   "mimetype": "text/x-python",
   "name": "python",
   "nbconvert_exporter": "python",
   "pygments_lexer": "ipython3",
   "version": "3.11.0"
  }
 },
 "nbformat": 4,
 "nbformat_minor": 2
}
